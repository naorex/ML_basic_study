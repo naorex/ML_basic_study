{
 "cells": [
  {
   "cell_type": "code",
   "execution_count": 1,
   "metadata": {},
   "outputs": [],
   "source": [
    "import pandas as pd\n",
    "import numpy as np\n",
    "import matplotlib.pyplot as plt"
   ]
  },
  {
   "attachments": {},
   "cell_type": "markdown",
   "metadata": {},
   "source": [
    "### (1)データの読み込みと確認"
   ]
  },
  {
   "cell_type": "code",
   "execution_count": 2,
   "metadata": {},
   "outputs": [
    {
     "name": "stdout",
     "output_type": "stream",
     "text": [
      "    sales  insta_post  insta_good  flyer  event  new_item  holiday\n",
      "ID                                                                \n",
      "1      62           0          20      0      0         0        0\n",
      "2      60           0          24      0      0         0        0\n",
      "3     104           0          26      0      0         0        0\n",
      "4     102           0          22      0      0         0        0\n",
      "5     178           0          39      0      0         0        1\n",
      "6     181           0          47      0      0         0        1\n",
      "7     116           0          22      0      0         0        0\n",
      "8     112           0          23      0      0         0        0\n",
      "9     119           0          25      0      0         0        0\n",
      "10    121           0          33      0      0         0        0\n"
     ]
    }
   ],
   "source": [
    "df = pd.read_csv(\"./data/senkei.csv\", index_col=0)\n",
    "\n",
    "# 読み込みデータ\n",
    "print(df.head(10))\n",
    "\n",
    "# 説明変数insta_good\n",
    "X = df.iloc[:, 2].values\n",
    "X = X.reshape(-1,1)\n",
    "\n",
    "# 目的変数sales\n",
    "Y = df.iloc[:, 0].values"
   ]
  },
  {
   "attachments": {},
   "cell_type": "markdown",
   "metadata": {},
   "source": [
    "### (2)回帰分析による予測モデルを作成"
   ]
  },
  {
   "cell_type": "code",
   "execution_count": 3,
   "metadata": {},
   "outputs": [],
   "source": [
    "# sklearn.linear_model.LinearRegression クラスを読み込み\n",
    "from sklearn import linear_model\n",
    "clf = linear_model.LinearRegression()"
   ]
  },
  {
   "cell_type": "code",
   "execution_count": 4,
   "metadata": {},
   "outputs": [
    {
     "name": "stdout",
     "output_type": "stream",
     "text": [
      "予測モデルの回帰係数:  [2.05852128]\n",
      "予測モデルの切片:  101.71515440413765\n",
      "予測モデルの決定係数:  0.5218980221448157\n"
     ]
    }
   ],
   "source": [
    "# 予測モデルを作成\n",
    "clf.fit(X, Y)\n",
    "\n",
    "# 回帰係数\n",
    "print(\"予測モデルの回帰係数: \", clf.coef_)\n",
    "\n",
    "# 切片\n",
    "print(\"予測モデルの切片: \", clf.intercept_)\n",
    "\n",
    "# 決定係数\n",
    "print(\"予測モデルの決定係数: \", clf.score(X, Y))"
   ]
  },
  {
   "attachments": {},
   "cell_type": "markdown",
   "metadata": {},
   "source": [
    "### (3)重回帰分析による予測モデルを作成"
   ]
  },
  {
   "cell_type": "code",
   "execution_count": 5,
   "metadata": {},
   "outputs": [
    {
     "name": "stdout",
     "output_type": "stream",
     "text": [
      "予測モデルの偏回帰係数: \n",
      "          Name  Coefficients\n",
      "2       flyer      0.206098\n",
      "1  insta_good      0.684993\n",
      "5     holiday     26.549665\n",
      "4    new_item     38.905751\n",
      "0  insta_post     48.871107\n",
      "3       event    245.436745\n",
      "\n",
      "予測モデルの切片: \n",
      " 131.89410662096924\n"
     ]
    }
   ],
   "source": [
    "# 説明変数\n",
    "X = df.iloc[:, 1:7].values\n",
    "\n",
    "# 目的変数\n",
    "Y = df.iloc[:, 0].values\n",
    "\n",
    "# 予測モデルを作成\n",
    "clf.fit(X, Y)\n",
    "\n",
    "# 偏回帰係数(重回帰分析における回帰係数の呼び方)を算出\n",
    "df_except_sales = df.iloc[:, 1:7]\n",
    "print(\"予測モデルの偏回帰係数: \\n\",\n",
    "      pd.DataFrame({\"Name\":df_except_sales.columns,\n",
    "                    \"Coefficients\":np.abs(clf.coef_)}).sort_values(by='Coefficients'))\n",
    "\n",
    "# 切片\n",
    "print(\"\\n予測モデルの切片: \\n\", clf.intercept_)"
   ]
  },
  {
   "attachments": {},
   "cell_type": "markdown",
   "metadata": {},
   "source": [
    "### (4)重回帰分析による予測モデルを作成（データを標準化する場合）"
   ]
  },
  {
   "cell_type": "code",
   "execution_count": 6,
   "metadata": {},
   "outputs": [
    {
     "name": "stdout",
     "output_type": "stream",
     "text": [
      "       sales  insta_post  insta_good     flyer     event  new_item   holiday\n",
      "ID                                                                          \n",
      "1  -1.427147   -0.322749   -0.839503 -0.511766 -0.138675  -0.19803 -0.657596\n",
      "2  -1.447439   -0.322749   -0.723860 -0.511766 -0.138675  -0.19803 -0.657596\n",
      "3  -1.001013   -0.322749   -0.666038 -0.511766 -0.138675  -0.19803 -0.657596\n",
      "4  -1.021305   -0.322749   -0.781681 -0.511766 -0.138675  -0.19803 -0.657596\n",
      "5  -0.250205   -0.322749   -0.290198 -0.511766 -0.138675  -0.19803  1.520691\n",
      "6  -0.219767   -0.322749   -0.058912 -0.511766 -0.138675  -0.19803  1.520691\n",
      "7  -0.879260   -0.322749   -0.781681 -0.511766 -0.138675  -0.19803 -0.657596\n",
      "8  -0.919844   -0.322749   -0.752770 -0.511766 -0.138675  -0.19803 -0.657596\n",
      "9  -0.848822   -0.322749   -0.694949 -0.511766 -0.138675  -0.19803 -0.657596\n",
      "10 -0.828530   -0.322749   -0.463663 -0.511766 -0.138675  -0.19803 -0.657596\n"
     ]
    }
   ],
   "source": [
    "## データフレームの各列を標準化\n",
    "# [1]数式で計算する場合\n",
    "df2 = df.apply(lambda x: (x - np.mean(x)) / np.std(x))\n",
    "print(df2.head(10))"
   ]
  },
  {
   "cell_type": "code",
   "execution_count": 7,
   "metadata": {},
   "outputs": [
    {
     "name": "stdout",
     "output_type": "stream",
     "text": [
      "          0         1         2         3         4        5         6\n",
      "0 -1.427147 -0.322749 -0.839503 -0.511766 -0.138675 -0.19803 -0.657596\n",
      "1 -1.447439 -0.322749 -0.723860 -0.511766 -0.138675 -0.19803 -0.657596\n",
      "2 -1.001013 -0.322749 -0.666038 -0.511766 -0.138675 -0.19803 -0.657596\n",
      "3 -1.021305 -0.322749 -0.781681 -0.511766 -0.138675 -0.19803 -0.657596\n",
      "4 -0.250205 -0.322749 -0.290198 -0.511766 -0.138675 -0.19803  1.520691\n",
      "5 -0.219767 -0.322749 -0.058912 -0.511766 -0.138675 -0.19803  1.520691\n",
      "6 -0.879260 -0.322749 -0.781681 -0.511766 -0.138675 -0.19803 -0.657596\n",
      "7 -0.919844 -0.322749 -0.752770 -0.511766 -0.138675 -0.19803 -0.657596\n",
      "8 -0.848822 -0.322749 -0.694949 -0.511766 -0.138675 -0.19803 -0.657596\n",
      "9 -0.828530 -0.322749 -0.463663 -0.511766 -0.138675 -0.19803 -0.657596\n"
     ]
    }
   ],
   "source": [
    "# [2]Sklearnの機能を用いる場合\n",
    "from sklearn.preprocessing import StandardScaler\n",
    "sc = StandardScaler()\n",
    "df3 = pd.DataFrame(sc.fit_transform(df))\n",
    "print(df3.head(10))"
   ]
  },
  {
   "cell_type": "code",
   "execution_count": 8,
   "metadata": {},
   "outputs": [
    {
     "name": "stdout",
     "output_type": "stream",
     "text": [
      "\n",
      "予測モデルの偏回帰係数（標準化データを基にした場合）: \n",
      "          Name  Coefficients\n",
      "4    new_item      0.075220\n",
      "5     holiday      0.123663\n",
      "0  insta_post      0.144937\n",
      "1  insta_good      0.240394\n",
      "3       event      0.338815\n",
      "2       flyer      0.424020\n",
      "\n",
      "予測モデルの切片:  1.7138002853310525e-17\n"
     ]
    }
   ],
   "source": [
    "# 説明変数\n",
    "X = df2.iloc[:, 1:7].values\n",
    "\n",
    "# 目的変数\n",
    "Y = df2.iloc[:, 0].values\n",
    "\n",
    "# 予測モデルを作成\n",
    "clf.fit(X, Y)\n",
    "\n",
    "# 偏回帰係数を算出\n",
    "df2_except_sales = df2.iloc[:, 1:7]\n",
    "print(\"\\n予測モデルの偏回帰係数（標準化データを基にした場合）: \\n\",\n",
    "      pd.DataFrame({\"Name\":df2_except_sales.columns,\n",
    "                    \"Coefficients\":np.abs(clf.coef_)}).sort_values(by='Coefficients'))\n",
    "\n",
    "# 切片\n",
    "print(\"\\n予測モデルの切片: \", clf.intercept_)"
   ]
  },
  {
   "attachments": {},
   "cell_type": "markdown",
   "metadata": {},
   "source": [
    "### (5)重回帰分析による予測モデルの評価（データを標準化する場合）学習及びテストを実行"
   ]
  },
  {
   "cell_type": "code",
   "execution_count": 9,
   "metadata": {},
   "outputs": [
    {
     "name": "stdout",
     "output_type": "stream",
     "text": [
      "予測モデルの偏回帰係数（標準化データを基にした場合）: \n",
      "          Name  Coefficients\n",
      "4    new_item     -0.126168\n",
      "5     holiday      0.072950\n",
      "0  insta_post      0.156640\n",
      "1  insta_good      0.273089\n",
      "3       event      0.302502\n",
      "2       flyer      0.453244\n",
      "\n",
      "予測モデルの切片:  0.02961603518882734\n"
     ]
    }
   ],
   "source": [
    "# (4)と同じ説明変数\n",
    "X = df2.iloc[:, 1:7].values\n",
    "\n",
    "# (4)と同じ目的変数\n",
    "Y = df2.iloc[:, 0].values\n",
    "\n",
    "# #学習用データとテスト用データを7:3に分割する\n",
    "from sklearn.model_selection import train_test_split\n",
    "X_train, X_test, Y_train, Y_test = train_test_split(X, Y, test_size=0.3)\n",
    "\n",
    "# 学習用データで予測モデルを作成\n",
    "model = linear_model.LinearRegression()\n",
    "model.fit(X_train, Y_train)\n",
    "\n",
    "# 偏回帰係数を算出\n",
    "df2_except_sales = df2.iloc[:, 1:7]\n",
    "print(\"予測モデルの偏回帰係数（標準化データを基にした場合）: \\n\",\n",
    "      pd.DataFrame({\"Name\":df2_except_sales.columns,\n",
    "                    \"Coefficients\":model.coef_}).sort_values(by='Coefficients') )\n",
    "\n",
    "# 切片\n",
    "print(\"\\n予測モデルの切片: \", model.intercept_)"
   ]
  },
  {
   "cell_type": "code",
   "execution_count": 10,
   "metadata": {},
   "outputs": [
    {
     "name": "stdout",
     "output_type": "stream",
     "text": [
      "[-0.15922217 -0.444452   -0.42866158 -0.45234721  1.16265262  1.3452447\n",
      " -0.29444297 -0.54708976  1.53472979 -0.52340413  0.06184378 -0.31023339\n",
      " -0.53129934 -0.51550891 -0.53129934 -0.54708976 -0.02699231  0.49945479\n",
      " -0.38918552  4.35609909 -0.49182328  1.41540825 -0.16711738 -0.11185089\n",
      " -0.13553653  1.07680748 -0.38918552 -0.54708976 -0.42866158 -0.23817429\n",
      " -0.5076137   0.0687368  -0.37339509 -0.56288019  0.71262552  1.53383643\n",
      " -0.37339509]\n",
      "[-0.48392806 -0.53129934 -0.36449768 -0.52340413 -0.23027908 -0.15132695\n",
      " -0.17501259  1.04422444  0.17828321 -0.49971849 -0.5076137  -0.49971849\n",
      " -0.23817429 -0.49971849  0.04605335  1.26629257]\n"
     ]
    }
   ],
   "source": [
    "# 学習データからの予測値\n",
    "pred_train = model.predict(X_train)\n",
    "print(pred_train)\n",
    "\n",
    "# テストデータからの予測値\n",
    "pred_test = model.predict(X_test)\n",
    "print(pred_test)"
   ]
  },
  {
   "cell_type": "code",
   "execution_count": 11,
   "metadata": {},
   "outputs": [
    {
     "name": "stdout",
     "output_type": "stream",
     "text": [
      "\n",
      "X_trainを使ったモデルの平均二乗誤差=0.36\n",
      "X_testを使ったモデルの平均二乗誤差=0.20\n"
     ]
    }
   ],
   "source": [
    "# 平均二乗誤差\n",
    "\"\"\"\n",
    "【説明】平均二乗誤差 (MSE)\n",
    "それぞれのデータに対して、実際の値と予測値の差の2乗を計算し、その総和をとり、データの総数で割った値。\n",
    "平均二乗誤差 (MSE)では、値が小さいほど誤差の少ないモデルと言える。\n",
    "\"\"\"\n",
    "print('\\nX_trainを使ったモデルの平均二乗誤差={:0.2f}'.format(np.mean((np.array(Y_train, dtype = int) - pred_train) ** 2)))\n",
    "print('X_testを使ったモデルの平均二乗誤差={:0.2f}'.format(np.mean((np.array(Y_test, dtype = int) - pred_test) ** 2)))"
   ]
  },
  {
   "cell_type": "code",
   "execution_count": 12,
   "metadata": {},
   "outputs": [
    {
     "data": {
      "image/png": "[encoded data removed]",
      "text/plain": [
       "<Figure size 640x480 with 1 Axes>"
      ]
     },
     "metadata": {},
     "output_type": "display_data"
    }
   ],
   "source": [
    "# 残差プロット\n",
    "\"\"\"\n",
    "【説明】残差プロット\n",
    "重回帰分析での回帰診断のために用いられる散布図。\n",
    "横軸に説明変数または予測値をとり、縦軸に回帰残差をとってプロットしたもの。\n",
    "何らかの規則性や分散の偏りがあるか等を判断することができる。\n",
    "\n",
    "【説明】回帰残差\n",
    "回帰直線から垂直に伸ばした各データ値までの距離を指す。\n",
    "\"\"\"\n",
    "# 学習用データの残差プロット\n",
    "train = plt.scatter(pred_train,(pred_train-Y_train),c='b',alpha=0.5)\n",
    "\n",
    "# テスト用データの残差プロット\n",
    "test = plt.scatter(pred_test,(pred_test-Y_test),c='r',alpha=0.5)\n",
    "\n",
    "# y=0の水平線を描画\n",
    "plt.hlines(y=0,xmin=-8,xmax=8)\n",
    "\n",
    "# 描画\n",
    "plt.legend((train,test),('Training','Test'),loc='lower left')\n",
    "plt.title('Residual Plots')\n",
    "plt.show()"
   ]
  }
 ],
 "metadata": {
  "kernelspec": {
   "display_name": "ML_study_govstat_3106",
   "language": "python",
   "name": "python3"
  },
  "language_info": {
   "codemirror_mode": {
    "name": "ipython",
    "version": 3
   },
   "file_extension": ".py",
   "mimetype": "text/x-python",
   "name": "python",
   "nbconvert_exporter": "python",
   "pygments_lexer": "ipython3",
   "version": "3.11.3"
  },
  "orig_nbformat": 4,
  "vscode": {
   "interpreter": {
    "hash": "41eccb31bb1553bce3ae94bb59f1dd4985803a2339de9e6a82413754f81028ea"
   }
  }
 },
 "nbformat": 4,
 "nbformat_minor": 2
}
